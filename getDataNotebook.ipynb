{
 "cells": [
  {
   "cell_type": "markdown",
   "metadata": {},
   "source": [
    "# Get_Data\n",
    "## Ratios and Values Needed:\n",
    "- **P/ Book Value**: Market Price per share, Book Value per share - YEEEEET\n",
    "- **P / Sales**: Market cap / TTM Revenue or sales - YEEEET\n",
    "- **EBITDA to EV**: EBITDA / EV\n",
    "- **P / CF** : Stock Price (Avg price) / operating cash flow (TTM)\n",
    "- **P / Earnings**: Market Price per share / Earnings per share\n",
    "- **Shareholder Yield**"
   ]
  },
  {
   "cell_type": "markdown",
   "metadata": {},
   "source": [
    "### API Routes\n",
    "* API BASE: GET /stock/{symbol}/\n",
    "* Price to Book: /advanced-stats\n",
    "* Price to Sales: /advanced-stats\n",
    "* EBITDA / EV: both in /advanced-stats\n",
    "* Price to Cash Flow: Price:/chart/{20190220 (date)} CF:/cash-flow\n",
    "* Price to Earnings Ratio: /advanced-stats\n",
    "* Shareholder Yield: div yield in /advanced-stats"
   ]
  },
  {
   "cell_type": "markdown",
   "metadata": {},
   "source": [
    "#### Problems:\n",
    "* /advanced-stats is paid, also /cash-flow is paid\n",
    "\n",
    "### Updated Routes using FCM:\n",
    "* Route Base: https://financialmodelingprep.com/api/v3\n",
    "* key-metrics: /company-key-metrics/AAPL?period=quarter\n",
    "* Price: /historical-price-full/AAPL?serietype=line\n",
    "* Price to Book: key-metrics\n",
    "* Price to Sales: Market Cap: key-metrics / Revenue per share: key -metrics\n",
    "* EBITDA to EV: Given as EV / EBITDA: key-metrics\n",
    "* Price to Cash Flow: Price: price route / Cash Flow: key-metrics\n",
    "* Price to Earnings: ratio in key-metrics\n",
    "* Shareholder yield : Dividen Yield in key-metric (calc this)"
   ]
  },
  {
   "cell_type": "code",
   "execution_count": 1,
   "metadata": {},
   "outputs": [],
   "source": [
    "import pandas as pd\n",
    "import requests\n",
    "import json \n",
    "\n",
    "stocks = ['AAPL' , 'MSFT', \"F\", \"FIT\", \"TWTR\", \"AMZN\", \"ATVI\", \"MMM\", \"CVX\", \"UNP\"]\n",
    "req_attr = [\"PB ratio\" , \n",
    "            \"Market Cap\",\n",
    "            \"Revenue per Share\", \n",
    "            \"Enterprise Value over EBITDA\",\n",
    "            \"Operating Cash Flow per Share\",\n",
    "            \"PE ratio\",\n",
    "            \"Dividend Yield\",\n",
    "           ]"
   ]
  },
  {
   "cell_type": "code",
   "execution_count": 2,
   "metadata": {},
   "outputs": [],
   "source": [
    "def get_curr_price(ticker):\n",
    "    response = requests.get(\"https://financialmodelingprep.com/api/v3/historical-price-full/{}?serietype=line\".format(ticker.upper()))\n",
    "    if response.status_code == 404:\n",
    "        return \"Stock Info not Available\"\n",
    "    result = response.json()\n",
    "    return result[\"historical\"][-1][\"close\"]    "
   ]
  },
  {
   "cell_type": "code",
   "execution_count": 3,
   "metadata": {},
   "outputs": [],
   "source": [
    "def get_metrics(ticker):\n",
    "    response = requests.get(\"https://financialmodelingprep.com/api/v3/company-key-metrics/{}?period=quarter\".format(ticker))\n",
    "    if response.status_code == 404:\n",
    "        return \"Stock Info not Available\"\n",
    "    comp_key_metrics = response.json()\n",
    "    values_list = comp_key_metrics[\"metrics\"][0]\n",
    "    comp_info =  dict.fromkeys(req_attr, 0)\n",
    "    for attr in req_attr:\n",
    "        comp_info[attr] = values_list[attr]\n",
    "    return comp_info"
   ]
  },
  {
   "cell_type": "code",
   "execution_count": 4,
   "metadata": {},
   "outputs": [],
   "source": [
    "def build_company_dict(ticker):\n",
    "    metrics_dict = get_metrics(ticker)\n",
    "    curr_price = get_curr_price(ticker)\n",
    "    metrics_dict[\"Market Price\"] = curr_price\n",
    "    return metrics_dict"
   ]
  },
  {
   "cell_type": "code",
   "execution_count": 5,
   "metadata": {},
   "outputs": [],
   "source": [
    "def build_dataset(stocks):\n",
    "    company_metrics_dict = build_company_dict('aapl')\n",
    "    df = pd.DataFrame(index=stocks, columns=['PB ratio', 'Market Cap', 'Revenue per Share', 'Enterprise Value over EBITDA', 'Operating Cash Flow per Share', 'PE ratio', 'Dividend Yield', 'Market Price'])\n",
    "    for ticker in stocks:\n",
    "        df.loc[ticker] = build_company_dict(ticker)\n",
    "    return df"
   ]
  },
  {
   "cell_type": "code",
   "execution_count": 6,
   "metadata": {
    "scrolled": true
   },
   "outputs": [
    {
     "name": "stdout",
     "output_type": "stream",
     "text": [
      "Took 29.203030347824097\n"
     ]
    },
    {
     "data": {
      "text/html": [
       "<div>\n",
       "<style scoped>\n",
       "    .dataframe tbody tr th:only-of-type {\n",
       "        vertical-align: middle;\n",
       "    }\n",
       "\n",
       "    .dataframe tbody tr th {\n",
       "        vertical-align: top;\n",
       "    }\n",
       "\n",
       "    .dataframe thead th {\n",
       "        text-align: right;\n",
       "    }\n",
       "</style>\n",
       "<table border=\"1\" class=\"dataframe\">\n",
       "  <thead>\n",
       "    <tr style=\"text-align: right;\">\n",
       "      <th></th>\n",
       "      <th>PB ratio</th>\n",
       "      <th>Market Cap</th>\n",
       "      <th>Revenue per Share</th>\n",
       "      <th>Enterprise Value over EBITDA</th>\n",
       "      <th>Operating Cash Flow per Share</th>\n",
       "      <th>PE ratio</th>\n",
       "      <th>Dividend Yield</th>\n",
       "      <th>Market Price</th>\n",
       "    </tr>\n",
       "  </thead>\n",
       "  <tbody>\n",
       "    <tr>\n",
       "      <th>AAPL</th>\n",
       "      <td>9.5506</td>\n",
       "      <td>927346666250.0</td>\n",
       "      <td>11.7728</td>\n",
       "      <td>12.0424</td>\n",
       "      <td>2.5458</td>\n",
       "      <td>17.0372</td>\n",
       "      <td>0.0147</td>\n",
       "      <td>225.25</td>\n",
       "    </tr>\n",
       "    <tr>\n",
       "      <th>MSFT</th>\n",
       "      <td>10.1498</td>\n",
       "      <td>1039691135385.6001</td>\n",
       "      <td>4.4046</td>\n",
       "      <td>17.7757</td>\n",
       "      <td>2.1042</td>\n",
       "      <td>26.5519</td>\n",
       "      <td>0.0133</td>\n",
       "      <td>137.185</td>\n",
       "    </tr>\n",
       "    <tr>\n",
       "      <th>F</th>\n",
       "      <td>1.1202</td>\n",
       "      <td>40493890895.15</td>\n",
       "      <td>9.7523</td>\n",
       "      <td>12.9059</td>\n",
       "      <td>1.6222</td>\n",
       "      <td>18.125</td>\n",
       "      <td>0.0591</td>\n",
       "      <td>8.905</td>\n",
       "    </tr>\n",
       "    <tr>\n",
       "      <th>FIT</th>\n",
       "      <td>1.8018</td>\n",
       "      <td>1122017217.2</td>\n",
       "      <td>1.2241</td>\n",
       "      <td>0.0</td>\n",
       "      <td>-0.2983</td>\n",
       "      <td>0.0</td>\n",
       "      <td>0.0</td>\n",
       "      <td>3.735</td>\n",
       "    </tr>\n",
       "    <tr>\n",
       "      <th>TWTR</th>\n",
       "      <td>3.3238</td>\n",
       "      <td>27732217448.32</td>\n",
       "      <td>1.0945</td>\n",
       "      <td>22.7005</td>\n",
       "      <td>0.4409</td>\n",
       "      <td>11.6764</td>\n",
       "      <td>0.0</td>\n",
       "      <td>40.245</td>\n",
       "    </tr>\n",
       "  </tbody>\n",
       "</table>\n",
       "</div>"
      ],
      "text/plain": [
       "     PB ratio          Market Cap Revenue per Share  \\\n",
       "AAPL   9.5506      927346666250.0           11.7728   \n",
       "MSFT  10.1498  1039691135385.6001            4.4046   \n",
       "F      1.1202      40493890895.15            9.7523   \n",
       "FIT    1.8018        1122017217.2            1.2241   \n",
       "TWTR   3.3238      27732217448.32            1.0945   \n",
       "\n",
       "     Enterprise Value over EBITDA Operating Cash Flow per Share PE ratio  \\\n",
       "AAPL                      12.0424                        2.5458  17.0372   \n",
       "MSFT                      17.7757                        2.1042  26.5519   \n",
       "F                         12.9059                        1.6222   18.125   \n",
       "FIT                           0.0                       -0.2983      0.0   \n",
       "TWTR                      22.7005                        0.4409  11.6764   \n",
       "\n",
       "     Dividend Yield Market Price  \n",
       "AAPL         0.0147       225.25  \n",
       "MSFT         0.0133      137.185  \n",
       "F            0.0591        8.905  \n",
       "FIT             0.0        3.735  \n",
       "TWTR            0.0       40.245  "
      ]
     },
     "execution_count": 6,
     "metadata": {},
     "output_type": "execute_result"
    }
   ],
   "source": [
    "import time\n",
    "start_time = time.time()\n",
    "df = build_dataset(stocks)\n",
    "print(\"Took {}\".format(time.time() - start_time))\n",
    "df.head()"
   ]
  },
  {
   "cell_type": "code",
   "execution_count": 7,
   "metadata": {},
   "outputs": [
    {
     "data": {
      "text/plain": [
       "['1.1202',\n",
       " '40493890895.15',\n",
       " '9.7523',\n",
       " '12.9059',\n",
       " '1.6222',\n",
       " '18.125',\n",
       " '0.0591',\n",
       " 8.905]"
      ]
     },
     "execution_count": 7,
     "metadata": {},
     "output_type": "execute_result"
    }
   ],
   "source": [
    "df.loc[\"F\"].tolist()"
   ]
  },
  {
   "cell_type": "code",
   "execution_count": 173,
   "metadata": {},
   "outputs": [],
   "source": [
    "df.to_csv(\"company_metrics.csv\")"
   ]
  }
 ],
 "metadata": {
  "kernelspec": {
   "display_name": "Python 3",
   "language": "python",
   "name": "python3"
  },
  "language_info": {
   "codemirror_mode": {
    "name": "ipython",
    "version": 3
   },
   "file_extension": ".py",
   "mimetype": "text/x-python",
   "name": "python",
   "nbconvert_exporter": "python",
   "pygments_lexer": "ipython3",
   "version": "3.7.3"
  }
 },
 "nbformat": 4,
 "nbformat_minor": 2
}
